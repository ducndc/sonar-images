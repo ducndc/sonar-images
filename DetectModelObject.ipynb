{
 "cells": [
  {
   "cell_type": "code",
   "execution_count": 1,
   "id": "80cbe536",
   "metadata": {},
   "outputs": [],
   "source": [
    "import cv2\n",
    "import matplotlib.pyplot as plt\n",
    "import os\n",
    "import numpy as np"
   ]
  },
  {
   "cell_type": "code",
   "execution_count": 2,
   "id": "2d515e74",
   "metadata": {},
   "outputs": [],
   "source": [
    "def build_filters():\n",
    "    filters = []\n",
    "    ksize = 31\n",
    "    for theta in np.arange(0, np.pi, np.pi / 16):\n",
    "        kern = cv2.getGaborKernel((ksize, ksize), 4.0, theta, 10.0, 0.5, 0, ktype=cv2.CV_32F)\n",
    "        kern /= 1.5*kern.sum()\n",
    "        filters.append(kern)\n",
    "    return filters\n",
    "\n",
    "def process(img, filters):\n",
    "    accum = np.zeros_like(img)\n",
    "    for kern in filters:\n",
    "        fimg = cv2.filter2D(img, cv2.CV_8UC3, kern)\n",
    "        np.maximum(accum, fimg, accum)\n",
    "    return accum"
   ]
  },
  {
   "cell_type": "code",
   "execution_count": 49,
   "id": "18f56a54",
   "metadata": {},
   "outputs": [
    {
     "data": {
      "text/plain": [
       "<matplotlib.image.AxesImage at 0x7f2f4f6fba60>"
      ]
     },
     "execution_count": 49,
     "metadata": {},
     "output_type": "execute_result"
    },
    {
     "data": {
      "image/png": "[encoded data removed]",
      "text/plain": [
       "<Figure size 432x288 with 1 Axes>"
      ]
     },
     "metadata": {
      "needs_background": "light"
     },
     "output_type": "display_data"
    }
   ],
   "source": [
    "filters = build_filters()\n",
    "\n",
    "img2 = cv2.imread('images/sonar1.jpg', 0)\n",
    "\n",
    "\n",
    "\n",
    "img2 = process(img2, filters)\n",
    "\n",
    "img2 = cv2.GaussianBlur(img2, (3,3), cv2.BORDER_DEFAULT)\n",
    "img2 = cv2.Canny(img2, 200, 200)\n",
    "\n",
    "plt.imshow(img2)"
   ]
  },
  {
   "cell_type": "code",
   "execution_count": 50,
   "id": "0663ba3b",
   "metadata": {},
   "outputs": [
    {
     "data": {
      "text/plain": [
       "<matplotlib.image.AxesImage at 0x7f2f4f660df0>"
      ]
     },
     "execution_count": 50,
     "metadata": {},
     "output_type": "execute_result"
    },
    {
     "data": {
      "image/png": "[encoded data removed]",
      "text/plain": [
       "<Figure size 432x288 with 1 Axes>"
      ]
     },
     "metadata": {
      "needs_background": "light"
     },
     "output_type": "display_data"
    }
   ],
   "source": [
    "img3 = process(img2, filters)\n",
    "\n",
    "img3 = cv2.GaussianBlur(img3, (3,3), cv2.BORDER_DEFAULT)\n",
    "img3 = cv2.Canny(img3, 100, 200)\n",
    "\n",
    "plt.imshow(img3)"
   ]
  },
  {
   "cell_type": "code",
   "execution_count": 51,
   "id": "45d7184d",
   "metadata": {},
   "outputs": [],
   "source": [
    "w, h = img3.shape[0:2]\n",
    "xSum = np.sum(img3 / 255, axis=0)\n",
    "ySum = np.sum(img3 / 255, axis=1)"
   ]
  },
  {
   "cell_type": "code",
   "execution_count": 52,
   "id": "9eda831c",
   "metadata": {
    "scrolled": true
   },
   "outputs": [
    {
     "name": "stdout",
     "output_type": "stream",
     "text": [
      "409 80 0.43999999999999995\n"
     ]
    }
   ],
   "source": [
    "xThr = 0\n",
    "yThr = 0\n",
    "\n",
    "# Find proper row indices\n",
    "tmp = np.argwhere(xSum > xThr)\n",
    "tmp = tmp[np.where((tmp > 20) & (tmp < w - 20))]\n",
    "x1 = tmp[0]\n",
    "x2 = tmp[-1]\n",
    "\n",
    "# Find proper column indices\n",
    "tmp = np.argwhere(ySum > yThr)\n",
    "tmp = tmp[np.where((tmp > 20) & (tmp < h - 20))]\n",
    "y1 = tmp[0]\n",
    "y2 = tmp[-1]\n",
    "\n",
    "# Visualize result\n",
    "out = cv2.cvtColor(img3, cv2.COLOR_GRAY2BGR)\n",
    "#cv2.rectangle(out, (x1, y1), (x2, y2), (0, 0, 255), 4)\n",
    "\n",
    "O1 = int((x1+x2)/2)\n",
    "O2 = int((y1+y2)/2)\n",
    "R = int(np.sqrt((x1-x2)**2 + (y1-y2)**2)/2)\n",
    "cv2.circle(out, (O1, O2), R, (255, 0, 0), 4)\n",
    "real_R = (R / img3.shape[0]) * 20\n",
    "print(O1, O2, real_R)"
   ]
  },
  {
   "cell_type": "code",
   "execution_count": 53,
   "id": "407700dd",
   "metadata": {},
   "outputs": [
    {
     "data": {
      "text/plain": [
       "<matplotlib.image.AxesImage at 0x7f2f4f5c5fd0>"
      ]
     },
     "execution_count": 53,
     "metadata": {},
     "output_type": "execute_result"
    },
    {
     "data": {
      "image/png": "[encoded data removed]",
      "text/plain": [
       "<Figure size 432x288 with 1 Axes>"
      ]
     },
     "metadata": {
      "needs_background": "light"
     },
     "output_type": "display_data"
    }
   ],
   "source": [
    "plt.imshow(out)"
   ]
  },
  {
   "cell_type": "code",
   "execution_count": null,
   "id": "1e2e889f",
   "metadata": {},
   "outputs": [],
   "source": []
  }
 ],
 "metadata": {
  "kernelspec": {
   "display_name": "Python 3 (ipykernel)",
   "language": "python",
   "name": "python3"
  },
  "language_info": {
   "codemirror_mode": {
    "name": "ipython",
    "version": 3
   },
   "file_extension": ".py",
   "mimetype": "text/x-python",
   "name": "python",
   "nbconvert_exporter": "python",
   "pygments_lexer": "ipython3",
   "version": "3.8.10"
  }
 },
 "nbformat": 4,
 "nbformat_minor": 5
}
